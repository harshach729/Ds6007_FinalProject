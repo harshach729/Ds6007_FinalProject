{
 "cells": [
  {
   "cell_type": "markdown",
   "id": "2336e339",
   "metadata": {},
   "source": [
    "# Suicide Rate Prediction:\n",
    "    \n",
    "    Suicide is a serious public health problem. The issue of  suicide rates is becoming more and more pervasive in society.The World Health Organization (WHO) estimates that nearly 800,000 people commit suicide each year, based on historical data from 1985 to 2016. This is one person every 40 seconds and there are suicide attempts.\n",
    "    The objective of this project is to predict the suicide rates using Machine Learning algorithms and analyzing them.\n"
   ]
  },
  {
   "cell_type": "markdown",
   "id": "4d7229c9",
   "metadata": {},
   "source": [
    "# The steps followed in this project are:\n",
    "\n",
    "1.Loading the data \n",
    "2.Familiarizing with the data\n",
    "3.Data Preprocessing\n",
    "4.Visualizing the data\n",
    "5.Splitting the data\n",
    "6.Training the data\n",
    "7.Conclusion"
   ]
  },
  {
   "cell_type": "code",
   "execution_count": 1,
   "id": "b6c0c1c6",
   "metadata": {},
   "outputs": [],
   "source": [
    "#import the required libraries\n",
    "import pandas as pd\n",
    "import numpy as np\n",
    "import matplotlib.pyplot as plt\n",
    "import seaborn as sns\n",
    "import sklearn"
   ]
  },
  {
   "cell_type": "markdown",
   "id": "3dcbba5c",
   "metadata": {},
   "source": [
    "# 1. Loading the data\n",
    "\n",
    " The dataset is taken from Kaggle, https://www.kaggle.com/russellyates88/suicide-rates-overview-1985-to-2016. \n",
    "This dataset contains the suicide details of all the countries from year 1985 to 2016. The dataset contains 12 features with 27820 samples."
   ]
  },
  {
   "cell_type": "code",
   "execution_count": 2,
   "id": "918e00d5",
   "metadata": {
    "scrolled": true
   },
   "outputs": [
    {
     "data": {
      "text/html": [
       "<div>\n",
       "<style scoped>\n",
       "    .dataframe tbody tr th:only-of-type {\n",
       "        vertical-align: middle;\n",
       "    }\n",
       "\n",
       "    .dataframe tbody tr th {\n",
       "        vertical-align: top;\n",
       "    }\n",
       "\n",
       "    .dataframe thead th {\n",
       "        text-align: right;\n",
       "    }\n",
       "</style>\n",
       "<table border=\"1\" class=\"dataframe\">\n",
       "  <thead>\n",
       "    <tr style=\"text-align: right;\">\n",
       "      <th></th>\n",
       "      <th>country</th>\n",
       "      <th>year</th>\n",
       "      <th>sex</th>\n",
       "      <th>age</th>\n",
       "      <th>suicides_no</th>\n",
       "      <th>population</th>\n",
       "      <th>suicides/100k pop</th>\n",
       "      <th>country-year</th>\n",
       "      <th>HDI for year</th>\n",
       "      <th>gdp_for_year ($)</th>\n",
       "      <th>gdp_per_capita ($)</th>\n",
       "      <th>generation</th>\n",
       "    </tr>\n",
       "  </thead>\n",
       "  <tbody>\n",
       "    <tr>\n",
       "      <th>0</th>\n",
       "      <td>Albania</td>\n",
       "      <td>1987</td>\n",
       "      <td>male</td>\n",
       "      <td>15-24 years</td>\n",
       "      <td>21</td>\n",
       "      <td>312900</td>\n",
       "      <td>6.71</td>\n",
       "      <td>Albania1987</td>\n",
       "      <td>NaN</td>\n",
       "      <td>2,156,624,900</td>\n",
       "      <td>796</td>\n",
       "      <td>Generation X</td>\n",
       "    </tr>\n",
       "    <tr>\n",
       "      <th>1</th>\n",
       "      <td>Albania</td>\n",
       "      <td>1987</td>\n",
       "      <td>male</td>\n",
       "      <td>35-54 years</td>\n",
       "      <td>16</td>\n",
       "      <td>308000</td>\n",
       "      <td>5.19</td>\n",
       "      <td>Albania1987</td>\n",
       "      <td>NaN</td>\n",
       "      <td>2,156,624,900</td>\n",
       "      <td>796</td>\n",
       "      <td>Silent</td>\n",
       "    </tr>\n",
       "    <tr>\n",
       "      <th>2</th>\n",
       "      <td>Albania</td>\n",
       "      <td>1987</td>\n",
       "      <td>female</td>\n",
       "      <td>15-24 years</td>\n",
       "      <td>14</td>\n",
       "      <td>289700</td>\n",
       "      <td>4.83</td>\n",
       "      <td>Albania1987</td>\n",
       "      <td>NaN</td>\n",
       "      <td>2,156,624,900</td>\n",
       "      <td>796</td>\n",
       "      <td>Generation X</td>\n",
       "    </tr>\n",
       "    <tr>\n",
       "      <th>3</th>\n",
       "      <td>Albania</td>\n",
       "      <td>1987</td>\n",
       "      <td>male</td>\n",
       "      <td>75+ years</td>\n",
       "      <td>1</td>\n",
       "      <td>21800</td>\n",
       "      <td>4.59</td>\n",
       "      <td>Albania1987</td>\n",
       "      <td>NaN</td>\n",
       "      <td>2,156,624,900</td>\n",
       "      <td>796</td>\n",
       "      <td>G.I. Generation</td>\n",
       "    </tr>\n",
       "    <tr>\n",
       "      <th>4</th>\n",
       "      <td>Albania</td>\n",
       "      <td>1987</td>\n",
       "      <td>male</td>\n",
       "      <td>25-34 years</td>\n",
       "      <td>9</td>\n",
       "      <td>274300</td>\n",
       "      <td>3.28</td>\n",
       "      <td>Albania1987</td>\n",
       "      <td>NaN</td>\n",
       "      <td>2,156,624,900</td>\n",
       "      <td>796</td>\n",
       "      <td>Boomers</td>\n",
       "    </tr>\n",
       "  </tbody>\n",
       "</table>\n",
       "</div>"
      ],
      "text/plain": [
       "   country  year     sex          age  suicides_no  population  \\\n",
       "0  Albania  1987    male  15-24 years           21      312900   \n",
       "1  Albania  1987    male  35-54 years           16      308000   \n",
       "2  Albania  1987  female  15-24 years           14      289700   \n",
       "3  Albania  1987    male    75+ years            1       21800   \n",
       "4  Albania  1987    male  25-34 years            9      274300   \n",
       "\n",
       "   suicides/100k pop country-year  HDI for year  gdp_for_year ($)   \\\n",
       "0               6.71  Albania1987           NaN      2,156,624,900   \n",
       "1               5.19  Albania1987           NaN      2,156,624,900   \n",
       "2               4.83  Albania1987           NaN      2,156,624,900   \n",
       "3               4.59  Albania1987           NaN      2,156,624,900   \n",
       "4               3.28  Albania1987           NaN      2,156,624,900   \n",
       "\n",
       "   gdp_per_capita ($)       generation  \n",
       "0                 796     Generation X  \n",
       "1                 796           Silent  \n",
       "2                 796     Generation X  \n",
       "3                 796  G.I. Generation  \n",
       "4                 796          Boomers  "
      ]
     },
     "execution_count": 2,
     "metadata": {},
     "output_type": "execute_result"
    }
   ],
   "source": [
    "#loading the data\n",
    "df = pd.read_csv(\"master.csv\")\n",
    "df.head()"
   ]
  },
  {
   "cell_type": "markdown",
   "id": "3d5413c2",
   "metadata": {},
   "source": [
    "# 2. Familiarizing with data:\n",
    "\n",
    "    Here we look the data and it's features."
   ]
  },
  {
   "cell_type": "code",
   "execution_count": 3,
   "id": "9b37fe84",
   "metadata": {},
   "outputs": [
    {
     "data": {
      "text/plain": [
       "(27820, 12)"
      ]
     },
     "execution_count": 3,
     "metadata": {},
     "output_type": "execute_result"
    }
   ],
   "source": [
    "#shape of the dataframe\n",
    "df.shape"
   ]
  },
  {
   "cell_type": "code",
   "execution_count": 4,
   "id": "67bfa9a4",
   "metadata": {},
   "outputs": [
    {
     "data": {
      "text/plain": [
       "Index(['country', 'year', 'sex', 'age', 'suicides_no', 'population',\n",
       "       'suicides/100k pop', 'country-year', 'HDI for year',\n",
       "       ' gdp_for_year ($) ', 'gdp_per_capita ($)', 'generation'],\n",
       "      dtype='object')"
      ]
     },
     "execution_count": 4,
     "metadata": {},
     "output_type": "execute_result"
    }
   ],
   "source": [
    "#list all the features of the data\n",
    "df.columns"
   ]
  },
  {
   "cell_type": "code",
   "execution_count": 5,
   "id": "de1ade3e",
   "metadata": {},
   "outputs": [
    {
     "name": "stdout",
     "output_type": "stream",
     "text": [
      "<class 'pandas.core.frame.DataFrame'>\n",
      "RangeIndex: 27820 entries, 0 to 27819\n",
      "Data columns (total 12 columns):\n",
      " #   Column              Non-Null Count  Dtype  \n",
      "---  ------              --------------  -----  \n",
      " 0   country             27820 non-null  object \n",
      " 1   year                27820 non-null  int64  \n",
      " 2   sex                 27820 non-null  object \n",
      " 3   age                 27820 non-null  object \n",
      " 4   suicides_no         27820 non-null  int64  \n",
      " 5   population          27820 non-null  int64  \n",
      " 6   suicides/100k pop   27820 non-null  float64\n",
      " 7   country-year        27820 non-null  object \n",
      " 8   HDI for year        8364 non-null   float64\n",
      " 9    gdp_for_year ($)   27820 non-null  object \n",
      " 10  gdp_per_capita ($)  27820 non-null  int64  \n",
      " 11  generation          27820 non-null  object \n",
      "dtypes: float64(2), int64(4), object(6)\n",
      "memory usage: 2.5+ MB\n"
     ]
    }
   ],
   "source": [
    "#dataset information\n",
    "df.info()"
   ]
  },
  {
   "cell_type": "code",
   "execution_count": 6,
   "id": "371f90bc",
   "metadata": {},
   "outputs": [
    {
     "data": {
      "text/plain": [
       "15-24 years    4642\n",
       "35-54 years    4642\n",
       "75+ years      4642\n",
       "25-34 years    4642\n",
       "55-74 years    4642\n",
       "5-14 years     4610\n",
       "Name: age, dtype: int64"
      ]
     },
     "execution_count": 6,
     "metadata": {},
     "output_type": "execute_result"
    }
   ],
   "source": [
    "#Here we find the age groups of the people and the count of age groups.\n",
    "df.age.value_counts()"
   ]
  },
  {
   "cell_type": "code",
   "execution_count": 7,
   "id": "86db74a1",
   "metadata": {},
   "outputs": [
    {
     "name": "stdout",
     "output_type": "stream",
     "text": [
      "Number of countries: 101\n"
     ]
    }
   ],
   "source": [
    "#Here we find the total number of countries in our dataset\n",
    "country = df.country.unique()\n",
    "print(\"Number of countries:\", len(country))"
   ]
  },
  {
   "cell_type": "markdown",
   "id": "5e91ec8d",
   "metadata": {},
   "source": [
    "# Observations:\n",
    "    1. The total number of countries in the dataset are 101.\n",
    "    2. HDI for year feature has null values. So we will replace the null values with mean in the pre processing.\n",
    "    3. There are 6 different age groups of people."
   ]
  },
  {
   "cell_type": "markdown",
   "id": "59f77feb",
   "metadata": {},
   "source": [
    "# 3. Data Preprocessing:\n",
    "\n",
    "    In Data Preprocessing we clean the data and apply the preprocessing techniques to transform the data."
   ]
  },
  {
   "cell_type": "code",
   "execution_count": 8,
   "id": "f5f87d30",
   "metadata": {},
   "outputs": [
    {
     "data": {
      "text/html": [
       "<div>\n",
       "<style scoped>\n",
       "    .dataframe tbody tr th:only-of-type {\n",
       "        vertical-align: middle;\n",
       "    }\n",
       "\n",
       "    .dataframe tbody tr th {\n",
       "        vertical-align: top;\n",
       "    }\n",
       "\n",
       "    .dataframe thead th {\n",
       "        text-align: right;\n",
       "    }\n",
       "</style>\n",
       "<table border=\"1\" class=\"dataframe\">\n",
       "  <thead>\n",
       "    <tr style=\"text-align: right;\">\n",
       "      <th></th>\n",
       "      <th>year</th>\n",
       "      <th>suicides_no</th>\n",
       "      <th>population</th>\n",
       "      <th>suicides/100k pop</th>\n",
       "      <th>HDI for year</th>\n",
       "      <th>gdp_per_capita ($)</th>\n",
       "    </tr>\n",
       "  </thead>\n",
       "  <tbody>\n",
       "    <tr>\n",
       "      <th>count</th>\n",
       "      <td>27820.000000</td>\n",
       "      <td>27820.000000</td>\n",
       "      <td>2.782000e+04</td>\n",
       "      <td>27820.000000</td>\n",
       "      <td>8364.000000</td>\n",
       "      <td>27820.000000</td>\n",
       "    </tr>\n",
       "    <tr>\n",
       "      <th>mean</th>\n",
       "      <td>2001.258375</td>\n",
       "      <td>242.574407</td>\n",
       "      <td>1.844794e+06</td>\n",
       "      <td>12.816097</td>\n",
       "      <td>0.776601</td>\n",
       "      <td>16866.464414</td>\n",
       "    </tr>\n",
       "    <tr>\n",
       "      <th>std</th>\n",
       "      <td>8.469055</td>\n",
       "      <td>902.047917</td>\n",
       "      <td>3.911779e+06</td>\n",
       "      <td>18.961511</td>\n",
       "      <td>0.093367</td>\n",
       "      <td>18887.576472</td>\n",
       "    </tr>\n",
       "    <tr>\n",
       "      <th>min</th>\n",
       "      <td>1985.000000</td>\n",
       "      <td>0.000000</td>\n",
       "      <td>2.780000e+02</td>\n",
       "      <td>0.000000</td>\n",
       "      <td>0.483000</td>\n",
       "      <td>251.000000</td>\n",
       "    </tr>\n",
       "    <tr>\n",
       "      <th>25%</th>\n",
       "      <td>1995.000000</td>\n",
       "      <td>3.000000</td>\n",
       "      <td>9.749850e+04</td>\n",
       "      <td>0.920000</td>\n",
       "      <td>0.713000</td>\n",
       "      <td>3447.000000</td>\n",
       "    </tr>\n",
       "    <tr>\n",
       "      <th>50%</th>\n",
       "      <td>2002.000000</td>\n",
       "      <td>25.000000</td>\n",
       "      <td>4.301500e+05</td>\n",
       "      <td>5.990000</td>\n",
       "      <td>0.779000</td>\n",
       "      <td>9372.000000</td>\n",
       "    </tr>\n",
       "    <tr>\n",
       "      <th>75%</th>\n",
       "      <td>2008.000000</td>\n",
       "      <td>131.000000</td>\n",
       "      <td>1.486143e+06</td>\n",
       "      <td>16.620000</td>\n",
       "      <td>0.855000</td>\n",
       "      <td>24874.000000</td>\n",
       "    </tr>\n",
       "    <tr>\n",
       "      <th>max</th>\n",
       "      <td>2016.000000</td>\n",
       "      <td>22338.000000</td>\n",
       "      <td>4.380521e+07</td>\n",
       "      <td>224.970000</td>\n",
       "      <td>0.944000</td>\n",
       "      <td>126352.000000</td>\n",
       "    </tr>\n",
       "  </tbody>\n",
       "</table>\n",
       "</div>"
      ],
      "text/plain": [
       "               year   suicides_no    population  suicides/100k pop  \\\n",
       "count  27820.000000  27820.000000  2.782000e+04       27820.000000   \n",
       "mean    2001.258375    242.574407  1.844794e+06          12.816097   \n",
       "std        8.469055    902.047917  3.911779e+06          18.961511   \n",
       "min     1985.000000      0.000000  2.780000e+02           0.000000   \n",
       "25%     1995.000000      3.000000  9.749850e+04           0.920000   \n",
       "50%     2002.000000     25.000000  4.301500e+05           5.990000   \n",
       "75%     2008.000000    131.000000  1.486143e+06          16.620000   \n",
       "max     2016.000000  22338.000000  4.380521e+07         224.970000   \n",
       "\n",
       "       HDI for year  gdp_per_capita ($)  \n",
       "count   8364.000000        27820.000000  \n",
       "mean       0.776601        16866.464414  \n",
       "std        0.093367        18887.576472  \n",
       "min        0.483000          251.000000  \n",
       "25%        0.713000         3447.000000  \n",
       "50%        0.779000         9372.000000  \n",
       "75%        0.855000        24874.000000  \n",
       "max        0.944000       126352.000000  "
      ]
     },
     "execution_count": 8,
     "metadata": {},
     "output_type": "execute_result"
    }
   ],
   "source": [
    "df.describe()"
   ]
  },
  {
   "cell_type": "code",
   "execution_count": 9,
   "id": "5b1cb05f",
   "metadata": {},
   "outputs": [
    {
     "data": {
      "text/plain": [
       "country                   0\n",
       "year                      0\n",
       "sex                       0\n",
       "age                       0\n",
       "suicides_no               0\n",
       "population                0\n",
       "suicides/100k pop         0\n",
       "country-year              0\n",
       "HDI for year          19456\n",
       " gdp_for_year ($)         0\n",
       "gdp_per_capita ($)        0\n",
       "generation                0\n",
       "dtype: int64"
      ]
     },
     "execution_count": 9,
     "metadata": {},
     "output_type": "execute_result"
    }
   ],
   "source": [
    "#Here we check the missing values\n",
    "df.isnull().sum()"
   ]
  },
  {
   "cell_type": "code",
   "execution_count": 10,
   "id": "8f53bd1d",
   "metadata": {},
   "outputs": [
    {
     "data": {
      "text/html": [
       "<div>\n",
       "<style scoped>\n",
       "    .dataframe tbody tr th:only-of-type {\n",
       "        vertical-align: middle;\n",
       "    }\n",
       "\n",
       "    .dataframe tbody tr th {\n",
       "        vertical-align: top;\n",
       "    }\n",
       "\n",
       "    .dataframe thead th {\n",
       "        text-align: right;\n",
       "    }\n",
       "</style>\n",
       "<table border=\"1\" class=\"dataframe\">\n",
       "  <thead>\n",
       "    <tr style=\"text-align: right;\">\n",
       "      <th></th>\n",
       "      <th>country</th>\n",
       "      <th>year</th>\n",
       "      <th>sex</th>\n",
       "      <th>age</th>\n",
       "      <th>suicides_no</th>\n",
       "      <th>population</th>\n",
       "      <th>suicides/100k pop</th>\n",
       "      <th>country-year</th>\n",
       "      <th>HDI for year</th>\n",
       "      <th>gdp_for_year ($)</th>\n",
       "      <th>gdp_per_capita ($)</th>\n",
       "      <th>generation</th>\n",
       "    </tr>\n",
       "  </thead>\n",
       "  <tbody>\n",
       "    <tr>\n",
       "      <th>0</th>\n",
       "      <td>False</td>\n",
       "      <td>False</td>\n",
       "      <td>False</td>\n",
       "      <td>False</td>\n",
       "      <td>False</td>\n",
       "      <td>False</td>\n",
       "      <td>False</td>\n",
       "      <td>False</td>\n",
       "      <td>True</td>\n",
       "      <td>False</td>\n",
       "      <td>False</td>\n",
       "      <td>False</td>\n",
       "    </tr>\n",
       "    <tr>\n",
       "      <th>1</th>\n",
       "      <td>False</td>\n",
       "      <td>False</td>\n",
       "      <td>False</td>\n",
       "      <td>False</td>\n",
       "      <td>False</td>\n",
       "      <td>False</td>\n",
       "      <td>False</td>\n",
       "      <td>False</td>\n",
       "      <td>True</td>\n",
       "      <td>False</td>\n",
       "      <td>False</td>\n",
       "      <td>False</td>\n",
       "    </tr>\n",
       "    <tr>\n",
       "      <th>2</th>\n",
       "      <td>False</td>\n",
       "      <td>False</td>\n",
       "      <td>False</td>\n",
       "      <td>False</td>\n",
       "      <td>False</td>\n",
       "      <td>False</td>\n",
       "      <td>False</td>\n",
       "      <td>False</td>\n",
       "      <td>True</td>\n",
       "      <td>False</td>\n",
       "      <td>False</td>\n",
       "      <td>False</td>\n",
       "    </tr>\n",
       "    <tr>\n",
       "      <th>3</th>\n",
       "      <td>False</td>\n",
       "      <td>False</td>\n",
       "      <td>False</td>\n",
       "      <td>False</td>\n",
       "      <td>False</td>\n",
       "      <td>False</td>\n",
       "      <td>False</td>\n",
       "      <td>False</td>\n",
       "      <td>True</td>\n",
       "      <td>False</td>\n",
       "      <td>False</td>\n",
       "      <td>False</td>\n",
       "    </tr>\n",
       "    <tr>\n",
       "      <th>4</th>\n",
       "      <td>False</td>\n",
       "      <td>False</td>\n",
       "      <td>False</td>\n",
       "      <td>False</td>\n",
       "      <td>False</td>\n",
       "      <td>False</td>\n",
       "      <td>False</td>\n",
       "      <td>False</td>\n",
       "      <td>True</td>\n",
       "      <td>False</td>\n",
       "      <td>False</td>\n",
       "      <td>False</td>\n",
       "    </tr>\n",
       "  </tbody>\n",
       "</table>\n",
       "</div>"
      ],
      "text/plain": [
       "   country   year    sex    age  suicides_no  population  suicides/100k pop  \\\n",
       "0    False  False  False  False        False       False              False   \n",
       "1    False  False  False  False        False       False              False   \n",
       "2    False  False  False  False        False       False              False   \n",
       "3    False  False  False  False        False       False              False   \n",
       "4    False  False  False  False        False       False              False   \n",
       "\n",
       "   country-year  HDI for year   gdp_for_year ($)   gdp_per_capita ($)  \\\n",
       "0         False          True               False               False   \n",
       "1         False          True               False               False   \n",
       "2         False          True               False               False   \n",
       "3         False          True               False               False   \n",
       "4         False          True               False               False   \n",
       "\n",
       "   generation  \n",
       "0       False  \n",
       "1       False  \n",
       "2       False  \n",
       "3       False  \n",
       "4       False  "
      ]
     },
     "execution_count": 10,
     "metadata": {},
     "output_type": "execute_result"
    }
   ],
   "source": [
    "#Here we found the HDI column has 19456 null values.\n",
    "df.isna().head()"
   ]
  },
  {
   "cell_type": "code",
   "execution_count": 11,
   "id": "eb2778fc",
   "metadata": {},
   "outputs": [],
   "source": [
    "#we use the mean of HDI column to replace the null values of the HDI column.\n",
    "x = df['HDI for year'].mean()"
   ]
  },
  {
   "cell_type": "code",
   "execution_count": 12,
   "id": "11f2784f",
   "metadata": {},
   "outputs": [
    {
     "data": {
      "text/plain": [
       "0.7766011477761785"
      ]
     },
     "execution_count": 12,
     "metadata": {},
     "output_type": "execute_result"
    }
   ],
   "source": [
    "x"
   ]
  },
  {
   "cell_type": "code",
   "execution_count": 13,
   "id": "8170e2fb",
   "metadata": {},
   "outputs": [],
   "source": [
    "#Replace the null values with mean of HDI.\n",
    "df['HDI for year'].fillna(x, inplace = True)"
   ]
  },
  {
   "cell_type": "code",
   "execution_count": 14,
   "id": "6e50d1c4",
   "metadata": {},
   "outputs": [
    {
     "data": {
      "text/html": [
       "<div>\n",
       "<style scoped>\n",
       "    .dataframe tbody tr th:only-of-type {\n",
       "        vertical-align: middle;\n",
       "    }\n",
       "\n",
       "    .dataframe tbody tr th {\n",
       "        vertical-align: top;\n",
       "    }\n",
       "\n",
       "    .dataframe thead th {\n",
       "        text-align: right;\n",
       "    }\n",
       "</style>\n",
       "<table border=\"1\" class=\"dataframe\">\n",
       "  <thead>\n",
       "    <tr style=\"text-align: right;\">\n",
       "      <th></th>\n",
       "      <th>country</th>\n",
       "      <th>year</th>\n",
       "      <th>sex</th>\n",
       "      <th>age</th>\n",
       "      <th>suicides_no</th>\n",
       "      <th>population</th>\n",
       "      <th>suicides/100k pop</th>\n",
       "      <th>country-year</th>\n",
       "      <th>HDI for year</th>\n",
       "      <th>gdp_for_year ($)</th>\n",
       "      <th>gdp_per_capita ($)</th>\n",
       "      <th>generation</th>\n",
       "    </tr>\n",
       "  </thead>\n",
       "  <tbody>\n",
       "    <tr>\n",
       "      <th>0</th>\n",
       "      <td>Albania</td>\n",
       "      <td>1987</td>\n",
       "      <td>male</td>\n",
       "      <td>15-24 years</td>\n",
       "      <td>21</td>\n",
       "      <td>312900</td>\n",
       "      <td>6.71</td>\n",
       "      <td>Albania1987</td>\n",
       "      <td>0.776601</td>\n",
       "      <td>2,156,624,900</td>\n",
       "      <td>796</td>\n",
       "      <td>Generation X</td>\n",
       "    </tr>\n",
       "    <tr>\n",
       "      <th>1</th>\n",
       "      <td>Albania</td>\n",
       "      <td>1987</td>\n",
       "      <td>male</td>\n",
       "      <td>35-54 years</td>\n",
       "      <td>16</td>\n",
       "      <td>308000</td>\n",
       "      <td>5.19</td>\n",
       "      <td>Albania1987</td>\n",
       "      <td>0.776601</td>\n",
       "      <td>2,156,624,900</td>\n",
       "      <td>796</td>\n",
       "      <td>Silent</td>\n",
       "    </tr>\n",
       "    <tr>\n",
       "      <th>2</th>\n",
       "      <td>Albania</td>\n",
       "      <td>1987</td>\n",
       "      <td>female</td>\n",
       "      <td>15-24 years</td>\n",
       "      <td>14</td>\n",
       "      <td>289700</td>\n",
       "      <td>4.83</td>\n",
       "      <td>Albania1987</td>\n",
       "      <td>0.776601</td>\n",
       "      <td>2,156,624,900</td>\n",
       "      <td>796</td>\n",
       "      <td>Generation X</td>\n",
       "    </tr>\n",
       "    <tr>\n",
       "      <th>3</th>\n",
       "      <td>Albania</td>\n",
       "      <td>1987</td>\n",
       "      <td>male</td>\n",
       "      <td>75+ years</td>\n",
       "      <td>1</td>\n",
       "      <td>21800</td>\n",
       "      <td>4.59</td>\n",
       "      <td>Albania1987</td>\n",
       "      <td>0.776601</td>\n",
       "      <td>2,156,624,900</td>\n",
       "      <td>796</td>\n",
       "      <td>G.I. Generation</td>\n",
       "    </tr>\n",
       "    <tr>\n",
       "      <th>4</th>\n",
       "      <td>Albania</td>\n",
       "      <td>1987</td>\n",
       "      <td>male</td>\n",
       "      <td>25-34 years</td>\n",
       "      <td>9</td>\n",
       "      <td>274300</td>\n",
       "      <td>3.28</td>\n",
       "      <td>Albania1987</td>\n",
       "      <td>0.776601</td>\n",
       "      <td>2,156,624,900</td>\n",
       "      <td>796</td>\n",
       "      <td>Boomers</td>\n",
       "    </tr>\n",
       "    <tr>\n",
       "      <th>...</th>\n",
       "      <td>...</td>\n",
       "      <td>...</td>\n",
       "      <td>...</td>\n",
       "      <td>...</td>\n",
       "      <td>...</td>\n",
       "      <td>...</td>\n",
       "      <td>...</td>\n",
       "      <td>...</td>\n",
       "      <td>...</td>\n",
       "      <td>...</td>\n",
       "      <td>...</td>\n",
       "      <td>...</td>\n",
       "    </tr>\n",
       "    <tr>\n",
       "      <th>27815</th>\n",
       "      <td>Uzbekistan</td>\n",
       "      <td>2014</td>\n",
       "      <td>female</td>\n",
       "      <td>35-54 years</td>\n",
       "      <td>107</td>\n",
       "      <td>3620833</td>\n",
       "      <td>2.96</td>\n",
       "      <td>Uzbekistan2014</td>\n",
       "      <td>0.675000</td>\n",
       "      <td>63,067,077,179</td>\n",
       "      <td>2309</td>\n",
       "      <td>Generation X</td>\n",
       "    </tr>\n",
       "    <tr>\n",
       "      <th>27816</th>\n",
       "      <td>Uzbekistan</td>\n",
       "      <td>2014</td>\n",
       "      <td>female</td>\n",
       "      <td>75+ years</td>\n",
       "      <td>9</td>\n",
       "      <td>348465</td>\n",
       "      <td>2.58</td>\n",
       "      <td>Uzbekistan2014</td>\n",
       "      <td>0.675000</td>\n",
       "      <td>63,067,077,179</td>\n",
       "      <td>2309</td>\n",
       "      <td>Silent</td>\n",
       "    </tr>\n",
       "    <tr>\n",
       "      <th>27817</th>\n",
       "      <td>Uzbekistan</td>\n",
       "      <td>2014</td>\n",
       "      <td>male</td>\n",
       "      <td>5-14 years</td>\n",
       "      <td>60</td>\n",
       "      <td>2762158</td>\n",
       "      <td>2.17</td>\n",
       "      <td>Uzbekistan2014</td>\n",
       "      <td>0.675000</td>\n",
       "      <td>63,067,077,179</td>\n",
       "      <td>2309</td>\n",
       "      <td>Generation Z</td>\n",
       "    </tr>\n",
       "    <tr>\n",
       "      <th>27818</th>\n",
       "      <td>Uzbekistan</td>\n",
       "      <td>2014</td>\n",
       "      <td>female</td>\n",
       "      <td>5-14 years</td>\n",
       "      <td>44</td>\n",
       "      <td>2631600</td>\n",
       "      <td>1.67</td>\n",
       "      <td>Uzbekistan2014</td>\n",
       "      <td>0.675000</td>\n",
       "      <td>63,067,077,179</td>\n",
       "      <td>2309</td>\n",
       "      <td>Generation Z</td>\n",
       "    </tr>\n",
       "    <tr>\n",
       "      <th>27819</th>\n",
       "      <td>Uzbekistan</td>\n",
       "      <td>2014</td>\n",
       "      <td>female</td>\n",
       "      <td>55-74 years</td>\n",
       "      <td>21</td>\n",
       "      <td>1438935</td>\n",
       "      <td>1.46</td>\n",
       "      <td>Uzbekistan2014</td>\n",
       "      <td>0.675000</td>\n",
       "      <td>63,067,077,179</td>\n",
       "      <td>2309</td>\n",
       "      <td>Boomers</td>\n",
       "    </tr>\n",
       "  </tbody>\n",
       "</table>\n",
       "<p>27820 rows × 12 columns</p>\n",
       "</div>"
      ],
      "text/plain": [
       "          country  year     sex          age  suicides_no  population  \\\n",
       "0         Albania  1987    male  15-24 years           21      312900   \n",
       "1         Albania  1987    male  35-54 years           16      308000   \n",
       "2         Albania  1987  female  15-24 years           14      289700   \n",
       "3         Albania  1987    male    75+ years            1       21800   \n",
       "4         Albania  1987    male  25-34 years            9      274300   \n",
       "...           ...   ...     ...          ...          ...         ...   \n",
       "27815  Uzbekistan  2014  female  35-54 years          107     3620833   \n",
       "27816  Uzbekistan  2014  female    75+ years            9      348465   \n",
       "27817  Uzbekistan  2014    male   5-14 years           60     2762158   \n",
       "27818  Uzbekistan  2014  female   5-14 years           44     2631600   \n",
       "27819  Uzbekistan  2014  female  55-74 years           21     1438935   \n",
       "\n",
       "       suicides/100k pop    country-year  HDI for year  gdp_for_year ($)   \\\n",
       "0                   6.71     Albania1987      0.776601      2,156,624,900   \n",
       "1                   5.19     Albania1987      0.776601      2,156,624,900   \n",
       "2                   4.83     Albania1987      0.776601      2,156,624,900   \n",
       "3                   4.59     Albania1987      0.776601      2,156,624,900   \n",
       "4                   3.28     Albania1987      0.776601      2,156,624,900   \n",
       "...                  ...             ...           ...                ...   \n",
       "27815               2.96  Uzbekistan2014      0.675000     63,067,077,179   \n",
       "27816               2.58  Uzbekistan2014      0.675000     63,067,077,179   \n",
       "27817               2.17  Uzbekistan2014      0.675000     63,067,077,179   \n",
       "27818               1.67  Uzbekistan2014      0.675000     63,067,077,179   \n",
       "27819               1.46  Uzbekistan2014      0.675000     63,067,077,179   \n",
       "\n",
       "       gdp_per_capita ($)       generation  \n",
       "0                     796     Generation X  \n",
       "1                     796           Silent  \n",
       "2                     796     Generation X  \n",
       "3                     796  G.I. Generation  \n",
       "4                     796          Boomers  \n",
       "...                   ...              ...  \n",
       "27815                2309     Generation X  \n",
       "27816                2309           Silent  \n",
       "27817                2309     Generation Z  \n",
       "27818                2309     Generation Z  \n",
       "27819                2309          Boomers  \n",
       "\n",
       "[27820 rows x 12 columns]"
      ]
     },
     "execution_count": 14,
     "metadata": {},
     "output_type": "execute_result"
    }
   ],
   "source": [
    "#Data after replacing the null values.\n",
    "df"
   ]
  },
  {
   "cell_type": "code",
   "execution_count": 15,
   "id": "cf812822",
   "metadata": {},
   "outputs": [
    {
     "name": "stdout",
     "output_type": "stream",
     "text": [
      "<class 'pandas.core.frame.DataFrame'>\n",
      "RangeIndex: 27820 entries, 0 to 27819\n",
      "Data columns (total 12 columns):\n",
      " #   Column              Non-Null Count  Dtype  \n",
      "---  ------              --------------  -----  \n",
      " 0   country             27820 non-null  object \n",
      " 1   year                27820 non-null  int64  \n",
      " 2   sex                 27820 non-null  object \n",
      " 3   age                 27820 non-null  object \n",
      " 4   suicides_no         27820 non-null  int64  \n",
      " 5   population          27820 non-null  int64  \n",
      " 6   suicides/100k pop   27820 non-null  float64\n",
      " 7   country-year        27820 non-null  object \n",
      " 8   HDI for year        27820 non-null  float64\n",
      " 9    gdp_for_year ($)   27820 non-null  object \n",
      " 10  gdp_per_capita ($)  27820 non-null  int64  \n",
      " 11  generation          27820 non-null  object \n",
      "dtypes: float64(2), int64(4), object(6)\n",
      "memory usage: 2.5+ MB\n"
     ]
    }
   ],
   "source": [
    "#Information of the new data after replacing the missing values\n",
    "df.info()"
   ]
  },
  {
   "cell_type": "code",
   "execution_count": 16,
   "id": "b9d04471",
   "metadata": {},
   "outputs": [
    {
     "data": {
      "text/plain": [
       "Index(['country', 'year', 'sex', 'age', 'suicides_no', 'population',\n",
       "       'suicides/100k pop', 'country-year', 'HDI for year',\n",
       "       ' gdp_for_year ($) ', 'gdp_per_capita ($)', 'generation'],\n",
       "      dtype='object')"
      ]
     },
     "execution_count": 16,
     "metadata": {},
     "output_type": "execute_result"
    }
   ],
   "source": [
    "df.columns"
   ]
  },
  {
   "cell_type": "code",
   "execution_count": 17,
   "id": "ecea36f0",
   "metadata": {},
   "outputs": [
    {
     "data": {
      "text/plain": [
       "(27820, 11)"
      ]
     },
     "execution_count": 17,
     "metadata": {},
     "output_type": "execute_result"
    }
   ],
   "source": [
    "#Here Country-year column is the combination of both the year and country so we drop the column.\n",
    "df = df.drop(['country-year'], axis = 1)\n",
    "df.shape"
   ]
  },
  {
   "cell_type": "code",
   "execution_count": 18,
   "id": "4d2d44f0",
   "metadata": {},
   "outputs": [
    {
     "data": {
      "text/plain": [
       "Index(['country', 'year', 'sex', 'age', 'suicides_no', 'population',\n",
       "       'suicides/100k pop', 'HDI for year', ' gdp_for_year ($) ',\n",
       "       'gdp_per_capita ($)', 'generation'],\n",
       "      dtype='object')"
      ]
     },
     "execution_count": 18,
     "metadata": {},
     "output_type": "execute_result"
    }
   ],
   "source": [
    "df.columns"
   ]
  },
  {
   "cell_type": "code",
   "execution_count": 19,
   "id": "ed873343",
   "metadata": {},
   "outputs": [
    {
     "data": {
      "text/plain": [
       "(27820, 11)"
      ]
     },
     "execution_count": 19,
     "metadata": {},
     "output_type": "execute_result"
    }
   ],
   "source": [
    "#Shape of the data after dropping the column and null rows.\n",
    "df = df.dropna()\n",
    "df.shape"
   ]
  },
  {
   "cell_type": "markdown",
   "id": "95bf44d2",
   "metadata": {},
   "source": [
    "# 4. Visualizing the data\n",
    "\n",
    "    Graphs are displayed to check how the data is distributed."
   ]
  },
  {
   "cell_type": "code",
   "execution_count": 20,
   "id": "0003b830",
   "metadata": {},
   "outputs": [
    {
     "data": {
      "text/plain": [
       "array([[<AxesSubplot:title={'center':'year'}>,\n",
       "        <AxesSubplot:title={'center':'suicides_no'}>],\n",
       "       [<AxesSubplot:title={'center':'population'}>,\n",
       "        <AxesSubplot:title={'center':'suicides/100k pop'}>],\n",
       "       [<AxesSubplot:title={'center':'HDI for year'}>,\n",
       "        <AxesSubplot:title={'center':'gdp_per_capita ($)'}>]],\n",
       "      dtype=object)"
      ]
     },
     "execution_count": 20,
     "metadata": {},
     "output_type": "execute_result"
    },
    {
     "data": {
      "image/png": "[encoded data removed]",
      "text/plain": [
       "<Figure size 1440x1080 with 6 Axes>"
      ]
     },
     "metadata": {
      "needs_background": "light"
     },
     "output_type": "display_data"
    }
   ],
   "source": [
    "#Plotting the histogram for the data.\n",
    "df.hist(bins = 50,figsize = (20,15))"
   ]
  },
  {
   "cell_type": "code",
   "execution_count": 21,
   "id": "86ec40ae",
   "metadata": {},
   "outputs": [
    {
     "data": {
      "image/png": "[encoded data removed]",
      "text/plain": [
       "<Figure size 1080x720 with 1 Axes>"
      ]
     },
     "metadata": {
      "needs_background": "light"
     },
     "output_type": "display_data"
    }
   ],
   "source": [
    "#Plotting the bar chart for the Number of suicides and Sex.\n",
    "plt.figure(figsize=(15,10))\n",
    "sns.barplot(x = \"suicides_no\", y = \"sex\", data = df)\n",
    "plt.title('sex to Suicide Numbers Plot')\n",
    "plt.show()"
   ]
  },
  {
   "cell_type": "markdown",
   "id": "cc96ce6f",
   "metadata": {},
   "source": [
    "Here we can see that suicides in the male population is more compared to females."
   ]
  },
  {
   "cell_type": "code",
   "execution_count": 22,
   "id": "7bf00982",
   "metadata": {},
   "outputs": [
    {
     "data": {
      "image/png": "[encoded data removed]",
      "text/plain": [
       "<Figure size 1080x720 with 1 Axes>"
      ]
     },
     "metadata": {
      "needs_background": "light"
     },
     "output_type": "display_data"
    }
   ],
   "source": [
    "#Here we plot the bar chart to the number of suicides to the age.\n",
    "plt.figure(figsize=(15,10))\n",
    "sns.barplot(x = \"age\", y = \"suicides_no\", data = df)\n",
    "plt.title(\"Age to suicide no Plot\")\n",
    "plt.show()"
   ]
  },
  {
   "cell_type": "code",
   "execution_count": 23,
   "id": "6e429704",
   "metadata": {},
   "outputs": [
    {
     "data": {
      "image/png": "[encoded data removed]",
      "text/plain": [
       "<Figure size 1080x720 with 1 Axes>"
      ]
     },
     "metadata": {
      "needs_background": "light"
     },
     "output_type": "display_data"
    }
   ],
   "source": [
    "#Here we plot the bar chart for suicides numbers to the generations\n",
    "plt.figure(figsize=(15,10))\n",
    "sns.barplot(x = \"generation\", y = \"suicides_no\", data = df)\n",
    "plt.title('Generation - Suicide no Plot')\n",
    "plt.show()"
   ]
  },
  {
   "cell_type": "code",
   "execution_count": 24,
   "id": "c0b02671",
   "metadata": {},
   "outputs": [
    {
     "data": {
      "image/png": "[encoded data removed]",
      "text/plain": [
       "<Figure size 1440x1800 with 1 Axes>"
      ]
     },
     "metadata": {
      "needs_background": "light"
     },
     "output_type": "display_data"
    }
   ],
   "source": [
    "#Here we plot the bar chart to the number of suicide to countries.\n",
    "plt.figure(figsize=(20,25))\n",
    "sns.barplot(x = \"suicides/100k pop\", y = \"country\", data = df)\n",
    "plt.title('Country to Suicide_rate plot')\n",
    "plt.show()"
   ]
  },
  {
   "cell_type": "code",
   "execution_count": 25,
   "id": "3c638c69",
   "metadata": {},
   "outputs": [
    {
     "data": {
      "image/png": "[encoded data removed]",
      "text/plain": [
       "<Figure size 1440x720 with 2 Axes>"
      ]
     },
     "metadata": {
      "needs_background": "light"
     },
     "output_type": "display_data"
    }
   ],
   "source": [
    "#Correlation heatmap\n",
    "plt.figure(figsize=(20,10))\n",
    "sns.heatmap(df.corr(), annot=True)\n",
    "plt.show()"
   ]
  },
  {
   "cell_type": "markdown",
   "id": "a6e44113",
   "metadata": {},
   "source": [
    "# Observations: \n",
    "    1. The number of suicides in male population is higher than that of the female population.\n",
    "    2. The age group of people between 35-54 years are commiting more suicides.\n",
    "    3. In generations, boomers generation has more number of suicides.\n",
    "    4. From the bar chart we can see Lithuania country has more number of suicides."
   ]
  },
  {
   "cell_type": "code",
   "execution_count": 26,
   "id": "bddf679b",
   "metadata": {},
   "outputs": [],
   "source": [
    "#The non-numerical labeled columns, country, year, sex, age and generation are to be converted to numerical labels that can be done by using SkLearn's LabelEncoder.\n",
    "from sklearn.preprocessing import LabelEncoder\n",
    "categorical = ['country', 'year','age', 'sex', 'generation']\n",
    "label = sklearn.preprocessing.LabelEncoder()\n",
    "\n",
    "for column in categorical:\n",
    "    df[column] = label.fit_transform(df[column])"
   ]
  },
  {
   "cell_type": "code",
   "execution_count": 27,
   "id": "4940b35f",
   "metadata": {},
   "outputs": [
    {
     "data": {
      "text/html": [
       "<div>\n",
       "<style scoped>\n",
       "    .dataframe tbody tr th:only-of-type {\n",
       "        vertical-align: middle;\n",
       "    }\n",
       "\n",
       "    .dataframe tbody tr th {\n",
       "        vertical-align: top;\n",
       "    }\n",
       "\n",
       "    .dataframe thead th {\n",
       "        text-align: right;\n",
       "    }\n",
       "</style>\n",
       "<table border=\"1\" class=\"dataframe\">\n",
       "  <thead>\n",
       "    <tr style=\"text-align: right;\">\n",
       "      <th></th>\n",
       "      <th>country</th>\n",
       "      <th>year</th>\n",
       "      <th>sex</th>\n",
       "      <th>age</th>\n",
       "      <th>suicides_no</th>\n",
       "      <th>population</th>\n",
       "      <th>suicides/100k pop</th>\n",
       "      <th>HDI for year</th>\n",
       "      <th>gdp_for_year ($)</th>\n",
       "      <th>gdp_per_capita ($)</th>\n",
       "      <th>generation</th>\n",
       "    </tr>\n",
       "  </thead>\n",
       "  <tbody>\n",
       "    <tr>\n",
       "      <th>0</th>\n",
       "      <td>0</td>\n",
       "      <td>2</td>\n",
       "      <td>1</td>\n",
       "      <td>0</td>\n",
       "      <td>21</td>\n",
       "      <td>312900</td>\n",
       "      <td>6.71</td>\n",
       "      <td>0.776601</td>\n",
       "      <td>2,156,624,900</td>\n",
       "      <td>796</td>\n",
       "      <td>2</td>\n",
       "    </tr>\n",
       "    <tr>\n",
       "      <th>1</th>\n",
       "      <td>0</td>\n",
       "      <td>2</td>\n",
       "      <td>1</td>\n",
       "      <td>2</td>\n",
       "      <td>16</td>\n",
       "      <td>308000</td>\n",
       "      <td>5.19</td>\n",
       "      <td>0.776601</td>\n",
       "      <td>2,156,624,900</td>\n",
       "      <td>796</td>\n",
       "      <td>5</td>\n",
       "    </tr>\n",
       "    <tr>\n",
       "      <th>2</th>\n",
       "      <td>0</td>\n",
       "      <td>2</td>\n",
       "      <td>0</td>\n",
       "      <td>0</td>\n",
       "      <td>14</td>\n",
       "      <td>289700</td>\n",
       "      <td>4.83</td>\n",
       "      <td>0.776601</td>\n",
       "      <td>2,156,624,900</td>\n",
       "      <td>796</td>\n",
       "      <td>2</td>\n",
       "    </tr>\n",
       "    <tr>\n",
       "      <th>3</th>\n",
       "      <td>0</td>\n",
       "      <td>2</td>\n",
       "      <td>1</td>\n",
       "      <td>5</td>\n",
       "      <td>1</td>\n",
       "      <td>21800</td>\n",
       "      <td>4.59</td>\n",
       "      <td>0.776601</td>\n",
       "      <td>2,156,624,900</td>\n",
       "      <td>796</td>\n",
       "      <td>1</td>\n",
       "    </tr>\n",
       "    <tr>\n",
       "      <th>4</th>\n",
       "      <td>0</td>\n",
       "      <td>2</td>\n",
       "      <td>1</td>\n",
       "      <td>1</td>\n",
       "      <td>9</td>\n",
       "      <td>274300</td>\n",
       "      <td>3.28</td>\n",
       "      <td>0.776601</td>\n",
       "      <td>2,156,624,900</td>\n",
       "      <td>796</td>\n",
       "      <td>0</td>\n",
       "    </tr>\n",
       "    <tr>\n",
       "      <th>...</th>\n",
       "      <td>...</td>\n",
       "      <td>...</td>\n",
       "      <td>...</td>\n",
       "      <td>...</td>\n",
       "      <td>...</td>\n",
       "      <td>...</td>\n",
       "      <td>...</td>\n",
       "      <td>...</td>\n",
       "      <td>...</td>\n",
       "      <td>...</td>\n",
       "      <td>...</td>\n",
       "    </tr>\n",
       "    <tr>\n",
       "      <th>27815</th>\n",
       "      <td>100</td>\n",
       "      <td>29</td>\n",
       "      <td>0</td>\n",
       "      <td>2</td>\n",
       "      <td>107</td>\n",
       "      <td>3620833</td>\n",
       "      <td>2.96</td>\n",
       "      <td>0.675000</td>\n",
       "      <td>63,067,077,179</td>\n",
       "      <td>2309</td>\n",
       "      <td>2</td>\n",
       "    </tr>\n",
       "    <tr>\n",
       "      <th>27816</th>\n",
       "      <td>100</td>\n",
       "      <td>29</td>\n",
       "      <td>0</td>\n",
       "      <td>5</td>\n",
       "      <td>9</td>\n",
       "      <td>348465</td>\n",
       "      <td>2.58</td>\n",
       "      <td>0.675000</td>\n",
       "      <td>63,067,077,179</td>\n",
       "      <td>2309</td>\n",
       "      <td>5</td>\n",
       "    </tr>\n",
       "    <tr>\n",
       "      <th>27817</th>\n",
       "      <td>100</td>\n",
       "      <td>29</td>\n",
       "      <td>1</td>\n",
       "      <td>3</td>\n",
       "      <td>60</td>\n",
       "      <td>2762158</td>\n",
       "      <td>2.17</td>\n",
       "      <td>0.675000</td>\n",
       "      <td>63,067,077,179</td>\n",
       "      <td>2309</td>\n",
       "      <td>3</td>\n",
       "    </tr>\n",
       "    <tr>\n",
       "      <th>27818</th>\n",
       "      <td>100</td>\n",
       "      <td>29</td>\n",
       "      <td>0</td>\n",
       "      <td>3</td>\n",
       "      <td>44</td>\n",
       "      <td>2631600</td>\n",
       "      <td>1.67</td>\n",
       "      <td>0.675000</td>\n",
       "      <td>63,067,077,179</td>\n",
       "      <td>2309</td>\n",
       "      <td>3</td>\n",
       "    </tr>\n",
       "    <tr>\n",
       "      <th>27819</th>\n",
       "      <td>100</td>\n",
       "      <td>29</td>\n",
       "      <td>0</td>\n",
       "      <td>4</td>\n",
       "      <td>21</td>\n",
       "      <td>1438935</td>\n",
       "      <td>1.46</td>\n",
       "      <td>0.675000</td>\n",
       "      <td>63,067,077,179</td>\n",
       "      <td>2309</td>\n",
       "      <td>0</td>\n",
       "    </tr>\n",
       "  </tbody>\n",
       "</table>\n",
       "<p>27820 rows × 11 columns</p>\n",
       "</div>"
      ],
      "text/plain": [
       "       country  year  sex  age  suicides_no  population  suicides/100k pop  \\\n",
       "0            0     2    1    0           21      312900               6.71   \n",
       "1            0     2    1    2           16      308000               5.19   \n",
       "2            0     2    0    0           14      289700               4.83   \n",
       "3            0     2    1    5            1       21800               4.59   \n",
       "4            0     2    1    1            9      274300               3.28   \n",
       "...        ...   ...  ...  ...          ...         ...                ...   \n",
       "27815      100    29    0    2          107     3620833               2.96   \n",
       "27816      100    29    0    5            9      348465               2.58   \n",
       "27817      100    29    1    3           60     2762158               2.17   \n",
       "27818      100    29    0    3           44     2631600               1.67   \n",
       "27819      100    29    0    4           21     1438935               1.46   \n",
       "\n",
       "       HDI for year  gdp_for_year ($)   gdp_per_capita ($)  generation  \n",
       "0          0.776601      2,156,624,900                 796           2  \n",
       "1          0.776601      2,156,624,900                 796           5  \n",
       "2          0.776601      2,156,624,900                 796           2  \n",
       "3          0.776601      2,156,624,900                 796           1  \n",
       "4          0.776601      2,156,624,900                 796           0  \n",
       "...             ...                ...                 ...         ...  \n",
       "27815      0.675000     63,067,077,179                2309           2  \n",
       "27816      0.675000     63,067,077,179                2309           5  \n",
       "27817      0.675000     63,067,077,179                2309           3  \n",
       "27818      0.675000     63,067,077,179                2309           3  \n",
       "27819      0.675000     63,067,077,179                2309           0  \n",
       "\n",
       "[27820 rows x 11 columns]"
      ]
     },
     "execution_count": 27,
     "metadata": {},
     "output_type": "execute_result"
    }
   ],
   "source": [
    "data = df.copy()\n",
    "data"
   ]
  },
  {
   "cell_type": "code",
   "execution_count": 28,
   "id": "07412088",
   "metadata": {},
   "outputs": [
    {
     "data": {
      "text/plain": [
       "country                 int32\n",
       "year                    int64\n",
       "sex                     int32\n",
       "age                     int32\n",
       "suicides_no             int64\n",
       "population              int64\n",
       "suicides/100k pop     float64\n",
       "HDI for year          float64\n",
       " gdp_for_year ($)      object\n",
       "gdp_per_capita ($)      int64\n",
       "generation              int32\n",
       "dtype: object"
      ]
     },
     "execution_count": 28,
     "metadata": {},
     "output_type": "execute_result"
    }
   ],
   "source": [
    "#Here we find the data types\n",
    "df.dtypes"
   ]
  },
  {
   "cell_type": "code",
   "execution_count": 29,
   "id": "444990b2",
   "metadata": {},
   "outputs": [],
   "source": [
    "#We can observe one feature has object data type so we are converting it to the float value.\n",
    "df[' gdp_for_year ($) '] = df[' gdp_for_year ($) '].str.replace(',','').astype(float)"
   ]
  },
  {
   "cell_type": "code",
   "execution_count": 30,
   "id": "f7742453",
   "metadata": {},
   "outputs": [
    {
     "data": {
      "text/plain": [
       "country                 int32\n",
       "year                    int64\n",
       "sex                     int32\n",
       "age                     int32\n",
       "suicides_no             int64\n",
       "population              int64\n",
       "suicides/100k pop     float64\n",
       "HDI for year          float64\n",
       " gdp_for_year ($)     float64\n",
       "gdp_per_capita ($)      int64\n",
       "generation              int32\n",
       "dtype: object"
      ]
     },
     "execution_count": 30,
     "metadata": {},
     "output_type": "execute_result"
    }
   ],
   "source": [
    "#we can observe the data types are changed from object to numericals.\n",
    "df.dtypes"
   ]
  },
  {
   "cell_type": "code",
   "execution_count": 31,
   "id": "a1dc61a9",
   "metadata": {},
   "outputs": [],
   "source": [
    "#Scaling the numerical data columns with RobustScalar.\n",
    "numerical = ['suicides_no', 'population', 'suicides/100k pop', \n",
    "              ' gdp_for_year ($) ','gdp_per_capita ($)']\n",
    "\n",
    "from sklearn.preprocessing import RobustScaler\n",
    "\n",
    "robust = RobustScaler()\n",
    "df[numerical] = robust.fit_transform(df[numerical])"
   ]
  },
  {
   "cell_type": "code",
   "execution_count": 32,
   "id": "d9eb3558",
   "metadata": {},
   "outputs": [
    {
     "data": {
      "text/html": [
       "<div>\n",
       "<style scoped>\n",
       "    .dataframe tbody tr th:only-of-type {\n",
       "        vertical-align: middle;\n",
       "    }\n",
       "\n",
       "    .dataframe tbody tr th {\n",
       "        vertical-align: top;\n",
       "    }\n",
       "\n",
       "    .dataframe thead th {\n",
       "        text-align: right;\n",
       "    }\n",
       "</style>\n",
       "<table border=\"1\" class=\"dataframe\">\n",
       "  <thead>\n",
       "    <tr style=\"text-align: right;\">\n",
       "      <th></th>\n",
       "      <th>country</th>\n",
       "      <th>year</th>\n",
       "      <th>sex</th>\n",
       "      <th>age</th>\n",
       "      <th>suicides_no</th>\n",
       "      <th>population</th>\n",
       "      <th>suicides/100k pop</th>\n",
       "      <th>HDI for year</th>\n",
       "      <th>gdp_for_year ($)</th>\n",
       "      <th>gdp_per_capita ($)</th>\n",
       "      <th>generation</th>\n",
       "    </tr>\n",
       "  </thead>\n",
       "  <tbody>\n",
       "    <tr>\n",
       "      <th>0</th>\n",
       "      <td>0</td>\n",
       "      <td>2</td>\n",
       "      <td>1</td>\n",
       "      <td>0</td>\n",
       "      <td>-0.031250</td>\n",
       "      <td>-0.084435</td>\n",
       "      <td>0.045860</td>\n",
       "      <td>0.776601</td>\n",
       "      <td>-0.182942</td>\n",
       "      <td>-0.400243</td>\n",
       "      <td>2</td>\n",
       "    </tr>\n",
       "    <tr>\n",
       "      <th>1</th>\n",
       "      <td>0</td>\n",
       "      <td>2</td>\n",
       "      <td>1</td>\n",
       "      <td>2</td>\n",
       "      <td>-0.070312</td>\n",
       "      <td>-0.087963</td>\n",
       "      <td>-0.050955</td>\n",
       "      <td>0.776601</td>\n",
       "      <td>-0.182942</td>\n",
       "      <td>-0.400243</td>\n",
       "      <td>5</td>\n",
       "    </tr>\n",
       "    <tr>\n",
       "      <th>2</th>\n",
       "      <td>0</td>\n",
       "      <td>2</td>\n",
       "      <td>0</td>\n",
       "      <td>0</td>\n",
       "      <td>-0.085938</td>\n",
       "      <td>-0.101142</td>\n",
       "      <td>-0.073885</td>\n",
       "      <td>0.776601</td>\n",
       "      <td>-0.182942</td>\n",
       "      <td>-0.400243</td>\n",
       "      <td>2</td>\n",
       "    </tr>\n",
       "    <tr>\n",
       "      <th>3</th>\n",
       "      <td>0</td>\n",
       "      <td>2</td>\n",
       "      <td>1</td>\n",
       "      <td>5</td>\n",
       "      <td>-0.187500</td>\n",
       "      <td>-0.294064</td>\n",
       "      <td>-0.089172</td>\n",
       "      <td>0.776601</td>\n",
       "      <td>-0.182942</td>\n",
       "      <td>-0.400243</td>\n",
       "      <td>1</td>\n",
       "    </tr>\n",
       "    <tr>\n",
       "      <th>4</th>\n",
       "      <td>0</td>\n",
       "      <td>2</td>\n",
       "      <td>1</td>\n",
       "      <td>1</td>\n",
       "      <td>-0.125000</td>\n",
       "      <td>-0.112232</td>\n",
       "      <td>-0.172611</td>\n",
       "      <td>0.776601</td>\n",
       "      <td>-0.182942</td>\n",
       "      <td>-0.400243</td>\n",
       "      <td>0</td>\n",
       "    </tr>\n",
       "    <tr>\n",
       "      <th>...</th>\n",
       "      <td>...</td>\n",
       "      <td>...</td>\n",
       "      <td>...</td>\n",
       "      <td>...</td>\n",
       "      <td>...</td>\n",
       "      <td>...</td>\n",
       "      <td>...</td>\n",
       "      <td>...</td>\n",
       "      <td>...</td>\n",
       "      <td>...</td>\n",
       "      <td>...</td>\n",
       "    </tr>\n",
       "    <tr>\n",
       "      <th>27815</th>\n",
       "      <td>100</td>\n",
       "      <td>29</td>\n",
       "      <td>0</td>\n",
       "      <td>2</td>\n",
       "      <td>0.640625</td>\n",
       "      <td>2.297696</td>\n",
       "      <td>-0.192994</td>\n",
       "      <td>0.675000</td>\n",
       "      <td>0.059520</td>\n",
       "      <td>-0.329631</td>\n",
       "      <td>2</td>\n",
       "    </tr>\n",
       "    <tr>\n",
       "      <th>27816</th>\n",
       "      <td>100</td>\n",
       "      <td>29</td>\n",
       "      <td>0</td>\n",
       "      <td>5</td>\n",
       "      <td>-0.125000</td>\n",
       "      <td>-0.058824</td>\n",
       "      <td>-0.217197</td>\n",
       "      <td>0.675000</td>\n",
       "      <td>0.059520</td>\n",
       "      <td>-0.329631</td>\n",
       "      <td>5</td>\n",
       "    </tr>\n",
       "    <tr>\n",
       "      <th>27817</th>\n",
       "      <td>100</td>\n",
       "      <td>29</td>\n",
       "      <td>1</td>\n",
       "      <td>3</td>\n",
       "      <td>0.273438</td>\n",
       "      <td>1.679341</td>\n",
       "      <td>-0.243312</td>\n",
       "      <td>0.675000</td>\n",
       "      <td>0.059520</td>\n",
       "      <td>-0.329631</td>\n",
       "      <td>3</td>\n",
       "    </tr>\n",
       "    <tr>\n",
       "      <th>27818</th>\n",
       "      <td>100</td>\n",
       "      <td>29</td>\n",
       "      <td>0</td>\n",
       "      <td>3</td>\n",
       "      <td>0.148438</td>\n",
       "      <td>1.585323</td>\n",
       "      <td>-0.275159</td>\n",
       "      <td>0.675000</td>\n",
       "      <td>0.059520</td>\n",
       "      <td>-0.329631</td>\n",
       "      <td>3</td>\n",
       "    </tr>\n",
       "    <tr>\n",
       "      <th>27819</th>\n",
       "      <td>100</td>\n",
       "      <td>29</td>\n",
       "      <td>0</td>\n",
       "      <td>4</td>\n",
       "      <td>-0.031250</td>\n",
       "      <td>0.726453</td>\n",
       "      <td>-0.288535</td>\n",
       "      <td>0.675000</td>\n",
       "      <td>0.059520</td>\n",
       "      <td>-0.329631</td>\n",
       "      <td>0</td>\n",
       "    </tr>\n",
       "  </tbody>\n",
       "</table>\n",
       "<p>27820 rows × 11 columns</p>\n",
       "</div>"
      ],
      "text/plain": [
       "       country  year  sex  age  suicides_no  population  suicides/100k pop  \\\n",
       "0            0     2    1    0    -0.031250   -0.084435           0.045860   \n",
       "1            0     2    1    2    -0.070312   -0.087963          -0.050955   \n",
       "2            0     2    0    0    -0.085938   -0.101142          -0.073885   \n",
       "3            0     2    1    5    -0.187500   -0.294064          -0.089172   \n",
       "4            0     2    1    1    -0.125000   -0.112232          -0.172611   \n",
       "...        ...   ...  ...  ...          ...         ...                ...   \n",
       "27815      100    29    0    2     0.640625    2.297696          -0.192994   \n",
       "27816      100    29    0    5    -0.125000   -0.058824          -0.217197   \n",
       "27817      100    29    1    3     0.273438    1.679341          -0.243312   \n",
       "27818      100    29    0    3     0.148438    1.585323          -0.275159   \n",
       "27819      100    29    0    4    -0.031250    0.726453          -0.288535   \n",
       "\n",
       "       HDI for year   gdp_for_year ($)   gdp_per_capita ($)  generation  \n",
       "0          0.776601           -0.182942           -0.400243           2  \n",
       "1          0.776601           -0.182942           -0.400243           5  \n",
       "2          0.776601           -0.182942           -0.400243           2  \n",
       "3          0.776601           -0.182942           -0.400243           1  \n",
       "4          0.776601           -0.182942           -0.400243           0  \n",
       "...             ...                 ...                 ...         ...  \n",
       "27815      0.675000            0.059520           -0.329631           2  \n",
       "27816      0.675000            0.059520           -0.329631           5  \n",
       "27817      0.675000            0.059520           -0.329631           3  \n",
       "27818      0.675000            0.059520           -0.329631           3  \n",
       "27819      0.675000            0.059520           -0.329631           0  \n",
       "\n",
       "[27820 rows x 11 columns]"
      ]
     },
     "execution_count": 32,
     "metadata": {},
     "output_type": "execute_result"
    }
   ],
   "source": [
    "df"
   ]
  },
  {
   "cell_type": "markdown",
   "id": "0130785c",
   "metadata": {},
   "source": [
    "# 5.Splitting the data"
   ]
  },
  {
   "cell_type": "code",
   "execution_count": 33,
   "id": "7c596139",
   "metadata": {},
   "outputs": [
    {
     "data": {
      "text/plain": [
       "((27820, 10), (27820,))"
      ]
     },
     "execution_count": 33,
     "metadata": {},
     "output_type": "execute_result"
    }
   ],
   "source": [
    "#Here we are separating the features and target columns and assigning to X and y.\n",
    "y = df['suicides/100k pop']\n",
    "X = df.drop('suicides/100k pop',axis=1)\n",
    "X.shape, y.shape"
   ]
  },
  {
   "cell_type": "code",
   "execution_count": 34,
   "id": "3d8ea4a1",
   "metadata": {},
   "outputs": [
    {
     "data": {
      "text/plain": [
       "((22256, 10), (5564, 10))"
      ]
     },
     "execution_count": 34,
     "metadata": {},
     "output_type": "execute_result"
    }
   ],
   "source": [
    "#Splitting the datasets into training and test sets\n",
    "from sklearn.model_selection import train_test_split\n",
    "\n",
    "X_train, X_test, y_train, y_test = train_test_split(X, y, test_size = 0.2, random_state = 12)\n",
    "X_train.shape, X_test.shape"
   ]
  },
  {
   "cell_type": "markdown",
   "id": "56ce7553",
   "metadata": {},
   "source": [
    "# 6. Model Building"
   ]
  },
  {
   "cell_type": "markdown",
   "id": "a344e7d5",
   "metadata": {},
   "source": [
    "# k-Nearest Neighbors Regression\n",
    "\n",
    "    The K-nearest neighbor method is a simple algorithm that stores all available cases and predicts a numerical. A simple implementation of KNN regression is to average k-nearest neighbor numerical targets."
   ]
  },
  {
   "cell_type": "code",
   "execution_count": 35,
   "id": "1ca5234e",
   "metadata": {},
   "outputs": [],
   "source": [
    "#importing the libraries\n",
    "from sklearn.neighbors import KNeighborsRegressor\n",
    "from sklearn.metrics import mean_squared_error"
   ]
  },
  {
   "cell_type": "code",
   "execution_count": 36,
   "id": "d4363d66",
   "metadata": {},
   "outputs": [
    {
     "data": {
      "text/plain": [
       "KNeighborsRegressor(n_neighbors=2)"
      ]
     },
     "execution_count": 36,
     "metadata": {},
     "output_type": "execute_result"
    }
   ],
   "source": [
    "#Fit the model\n",
    "clf = KNeighborsRegressor(n_neighbors=2)\n",
    "clf.fit(X_train, y_train)"
   ]
  },
  {
   "cell_type": "code",
   "execution_count": 37,
   "id": "1ddb7f6d",
   "metadata": {},
   "outputs": [
    {
     "data": {
      "text/plain": [
       "array([-0.06942675,  0.11656051,  0.53025478, ...,  0.98980892,\n",
       "        0.16847134,  1.22547771])"
      ]
     },
     "execution_count": 37,
     "metadata": {},
     "output_type": "execute_result"
    }
   ],
   "source": [
    "#predicting the target value for the samples.\n",
    "clf.predict(X_test)"
   ]
  },
  {
   "cell_type": "code",
   "execution_count": 38,
   "id": "61e09c57",
   "metadata": {},
   "outputs": [
    {
     "name": "stdout",
     "output_type": "stream",
     "text": [
      "Accuracy of test data: 0.80\n"
     ]
    }
   ],
   "source": [
    "#Finding the accuracy for test data\n",
    "print('Accuracy of test data: {:.2f}'.format(clf.score(X_test, y_test)))"
   ]
  },
  {
   "cell_type": "code",
   "execution_count": 39,
   "id": "7f839c33",
   "metadata": {},
   "outputs": [
    {
     "name": "stdout",
     "output_type": "stream",
     "text": [
      "Accuracy of train data: 0.94\n"
     ]
    }
   ],
   "source": [
    "#Finding the accuracy for train data\n",
    "print('Accuracy of train data: {:.2f}'.format(clf.score(X_train, y_train)))"
   ]
  },
  {
   "cell_type": "code",
   "execution_count": 40,
   "id": "b220f542",
   "metadata": {},
   "outputs": [],
   "source": [
    "#predicting the target value from the model for the test and train data\n",
    "y_pred_test = clf.predict(X_test)\n",
    "y_pred_train = clf.predict(X_train)"
   ]
  },
  {
   "cell_type": "code",
   "execution_count": 41,
   "id": "543f2134",
   "metadata": {},
   "outputs": [
    {
     "name": "stdout",
     "output_type": "stream",
     "text": [
      "RMSE of train data: 0.29\n"
     ]
    }
   ],
   "source": [
    "#Finding the RMSE for train data\n",
    "print('RMSE of train data: {:.2f}'.format(np.sqrt(mean_squared_error(y_train, y_pred_train))))"
   ]
  },
  {
   "cell_type": "code",
   "execution_count": 42,
   "id": "2cb07845",
   "metadata": {},
   "outputs": [
    {
     "name": "stdout",
     "output_type": "stream",
     "text": [
      "RMSE of test data: 0.56\n"
     ]
    }
   ],
   "source": [
    "#Finding the RMSE for test data\n",
    "print('RMSE of test data: {:.2f}'.format(np.sqrt(mean_squared_error(y_test, y_pred_test))))"
   ]
  },
  {
   "cell_type": "markdown",
   "id": "d39923c8",
   "metadata": {},
   "source": [
    "# KNN:\n",
    "Accuracy of training Data: 0.94\n",
    "Accuracy of test Data: 0.80\n",
    "The RMSE of the train data is: 0.29\n",
    "The RMSE of the test data is: 0.56"
   ]
  },
  {
   "cell_type": "markdown",
   "id": "eab3266e",
   "metadata": {},
   "source": [
    "# Linear Regression\n",
    "\n",
    "    Linear regression is the simplest and most classic linear regression method. Linear regression finds the parameters w and b that minimize the mean square error between the predictions in the training dataset and the true regression target y."
   ]
  },
  {
   "cell_type": "code",
   "execution_count": 43,
   "id": "a7dfd79a",
   "metadata": {},
   "outputs": [],
   "source": [
    "#import the libraries\n",
    "from sklearn.linear_model import LinearRegression"
   ]
  },
  {
   "cell_type": "code",
   "execution_count": 44,
   "id": "fb6d1382",
   "metadata": {},
   "outputs": [
    {
     "data": {
      "text/plain": [
       "LinearRegression()"
      ]
     },
     "execution_count": 44,
     "metadata": {},
     "output_type": "execute_result"
    }
   ],
   "source": [
    "#Fit the model\n",
    "clf = LinearRegression()\n",
    "clf.fit(X_train, y_train)"
   ]
  },
  {
   "cell_type": "code",
   "execution_count": 45,
   "id": "e443bb2c",
   "metadata": {},
   "outputs": [
    {
     "data": {
      "text/plain": [
       "array([-0.16837035,  0.06725699,  0.20856095, ...,  0.79618439,\n",
       "        0.16467054,  0.95856969])"
      ]
     },
     "execution_count": 45,
     "metadata": {},
     "output_type": "execute_result"
    }
   ],
   "source": [
    "clf.predict(X_test)"
   ]
  },
  {
   "cell_type": "code",
   "execution_count": 46,
   "id": "3b1d1444",
   "metadata": {},
   "outputs": [
    {
     "name": "stdout",
     "output_type": "stream",
     "text": [
      "Accuracy of test data: 0.30\n"
     ]
    }
   ],
   "source": [
    "#Finding the accuracy for test data\n",
    "print('Accuracy of test data: {:.2f}'.format(clf.score(X_test, y_test)))"
   ]
  },
  {
   "cell_type": "code",
   "execution_count": 47,
   "id": "05f884c5",
   "metadata": {},
   "outputs": [
    {
     "name": "stdout",
     "output_type": "stream",
     "text": [
      "Accuracy of train data: 0.29\n"
     ]
    }
   ],
   "source": [
    "#Finding the accuracy for train data\n",
    "print('Accuracy of train data: {:.2f}'.format(clf.score(X_train, y_train)))"
   ]
  },
  {
   "cell_type": "code",
   "execution_count": 48,
   "id": "c67bdcf7",
   "metadata": {},
   "outputs": [],
   "source": [
    "#predicting the target value from the model for the test and train data\n",
    "y_pred_test = clf.predict(X_test)\n",
    "y_pred_train = clf.predict(X_train)"
   ]
  },
  {
   "cell_type": "code",
   "execution_count": 49,
   "id": "07543090",
   "metadata": {},
   "outputs": [
    {
     "name": "stdout",
     "output_type": "stream",
     "text": [
      "RMSE of train data: 1.01\n"
     ]
    }
   ],
   "source": [
    "#Finding the RMSE for train data\n",
    "print('RMSE of train data: {:.2f}'.format(np.sqrt(mean_squared_error(y_train, y_pred_train))))"
   ]
  },
  {
   "cell_type": "code",
   "execution_count": 50,
   "id": "735eed8b",
   "metadata": {},
   "outputs": [
    {
     "name": "stdout",
     "output_type": "stream",
     "text": [
      "RMSE of test data: 1.04\n"
     ]
    }
   ],
   "source": [
    "#Finding the RMSE for test data\n",
    "print('RMSE of test data: {:.2f}'.format(np.sqrt(mean_squared_error(y_test, y_pred_test))))"
   ]
  },
  {
   "cell_type": "markdown",
   "id": "d511cb93",
   "metadata": {},
   "source": [
    "# Linear Regression:\n",
    "Accuracy of training Data: 0.29 Accuracy of test Data: 0.30 The RMSE of the train data is: 1.01 The RMSE of the test data is: 1.04"
   ]
  },
  {
   "cell_type": "markdown",
   "id": "8ff220da",
   "metadata": {},
   "source": [
    "# Decision Trees: Regression\n",
    "\n",
    "    Decision trees are a widely used model for classification and regression. Basically, they learn a hierarchy of unknown questions that leads to decisions. Learning a decision tree means learning a series of if / else questions that lead us to the true answer the fastest."
   ]
  },
  {
   "cell_type": "code",
   "execution_count": 53,
   "id": "8f619457",
   "metadata": {},
   "outputs": [],
   "source": [
    "#importing the libraries\n",
    "from sklearn.tree import DecisionTreeRegressor"
   ]
  },
  {
   "cell_type": "code",
   "execution_count": 54,
   "id": "bd58974d",
   "metadata": {},
   "outputs": [
    {
     "data": {
      "text/plain": [
       "DecisionTreeRegressor(max_depth=10)"
      ]
     },
     "execution_count": 54,
     "metadata": {},
     "output_type": "execute_result"
    }
   ],
   "source": [
    "#Fit the model\n",
    "clf = DecisionTreeRegressor(max_depth=10)\n",
    "clf.fit(X_train, y_train)"
   ]
  },
  {
   "cell_type": "code",
   "execution_count": 55,
   "id": "ecc13e0d",
   "metadata": {},
   "outputs": [
    {
     "data": {
      "text/plain": [
       "array([-0.14053203, -0.05619006, -0.1163482 , ...,  1.20294765,\n",
       "       -0.38152866,  1.14099626])"
      ]
     },
     "execution_count": 55,
     "metadata": {},
     "output_type": "execute_result"
    }
   ],
   "source": [
    "clf.predict(X_test)"
   ]
  },
  {
   "cell_type": "code",
   "execution_count": 56,
   "id": "1072ee2e",
   "metadata": {},
   "outputs": [
    {
     "name": "stdout",
     "output_type": "stream",
     "text": [
      "Accuracy of test data: 0.97\n"
     ]
    }
   ],
   "source": [
    "#Finding the accuracy for test data\n",
    "print('Accuracy of test data: {:.2f}'.format(clf.score(X_test, y_test)))"
   ]
  },
  {
   "cell_type": "code",
   "execution_count": 57,
   "id": "2cdddc04",
   "metadata": {},
   "outputs": [
    {
     "name": "stdout",
     "output_type": "stream",
     "text": [
      "Accuracy of train data: 0.98\n"
     ]
    }
   ],
   "source": [
    "#Finding the accuracy for train data\n",
    "print('Accuracy of train data: {:.2f}'.format(clf.score(X_train, y_train)))"
   ]
  },
  {
   "cell_type": "code",
   "execution_count": 58,
   "id": "baa351c2",
   "metadata": {},
   "outputs": [],
   "source": [
    "#predicting the target value from the model for the test and train data\n",
    "y_pred_test = clf.predict(X_test)\n",
    "y_pred_train = clf.predict(X_train)"
   ]
  },
  {
   "cell_type": "code",
   "execution_count": 59,
   "id": "f7f64501",
   "metadata": {},
   "outputs": [
    {
     "name": "stdout",
     "output_type": "stream",
     "text": [
      "RMSE of train data: 0.15\n"
     ]
    }
   ],
   "source": [
    "#Finding the RMSE for train data\n",
    "print('RMSE of train data: {:.2f}'.format(np.sqrt(mean_squared_error(y_train, y_pred_train))))"
   ]
  },
  {
   "cell_type": "code",
   "execution_count": 60,
   "id": "582237b2",
   "metadata": {},
   "outputs": [
    {
     "name": "stdout",
     "output_type": "stream",
     "text": [
      "RMSE of test data: 0.22\n"
     ]
    }
   ],
   "source": [
    "#Finding the RMSE for test data\n",
    "print('RMSE of test data: {:.2f}'.format(np.sqrt(mean_squared_error(y_test, y_pred_test))))"
   ]
  },
  {
   "cell_type": "markdown",
   "id": "c538c2b7",
   "metadata": {},
   "source": [
    "# Decision Tree:\n",
    "Accuracy of training Data: 0.98 Accuracy of test Data: 0.97 The RMSE of the train data is: 0.15 The RMSE of the test data is: 0.22"
   ]
  },
  {
   "cell_type": "markdown",
   "id": "62890544",
   "metadata": {},
   "source": [
    "# Random Forest\n",
    "\n",
    "    Random forests for regression and classification are one of the most widely used machine learning techniques. Random forests are basically a collection of decision trees, with each tree being slightly different from the others. Random Forest is that each tree can make good predictions, but will miss some data."
   ]
  },
  {
   "cell_type": "code",
   "execution_count": 61,
   "id": "341725d9",
   "metadata": {},
   "outputs": [],
   "source": [
    "#importing the libraries\n",
    "from sklearn.ensemble import RandomForestRegressor"
   ]
  },
  {
   "cell_type": "code",
   "execution_count": 62,
   "id": "6b8624fc",
   "metadata": {},
   "outputs": [
    {
     "data": {
      "text/plain": [
       "RandomForestRegressor(max_depth=10)"
      ]
     },
     "execution_count": 62,
     "metadata": {},
     "output_type": "execute_result"
    }
   ],
   "source": [
    "#Fit the model\n",
    "clf = RandomForestRegressor(max_depth=10)\n",
    "clf.fit(X_train, y_train)"
   ]
  },
  {
   "cell_type": "code",
   "execution_count": 63,
   "id": "d4e36d72",
   "metadata": {},
   "outputs": [
    {
     "data": {
      "text/plain": [
       "array([-0.1506874 , -0.03218204, -0.14876229, ...,  1.07463623,\n",
       "       -0.38152866,  1.09030508])"
      ]
     },
     "execution_count": 63,
     "metadata": {},
     "output_type": "execute_result"
    }
   ],
   "source": [
    "clf.predict(X_test)"
   ]
  },
  {
   "cell_type": "code",
   "execution_count": 64,
   "id": "471a94b3",
   "metadata": {},
   "outputs": [
    {
     "name": "stdout",
     "output_type": "stream",
     "text": [
      "Accuracy of test data: 0.99\n"
     ]
    }
   ],
   "source": [
    "#Finding the accuracy for test data\n",
    "print('Accuracy of test data: {:.2f}'.format(clf.score(X_test, y_test)))"
   ]
  },
  {
   "cell_type": "code",
   "execution_count": 65,
   "id": "957271a0",
   "metadata": {},
   "outputs": [
    {
     "name": "stdout",
     "output_type": "stream",
     "text": [
      "Accuracy of train data: 0.99\n"
     ]
    }
   ],
   "source": [
    "#Finding the accuracy for train data\n",
    "print('Accuracy of train data: {:.2f}'.format(clf.score(X_train, y_train)))"
   ]
  },
  {
   "cell_type": "code",
   "execution_count": 66,
   "id": "4937f38b",
   "metadata": {},
   "outputs": [],
   "source": [
    "#predicting the target value from the model for the test and train data\n",
    "y_pred_test = clf.predict(X_test)\n",
    "y_pred_train = clf.predict(X_train)"
   ]
  },
  {
   "cell_type": "code",
   "execution_count": 67,
   "id": "238acb4f",
   "metadata": {},
   "outputs": [
    {
     "name": "stdout",
     "output_type": "stream",
     "text": [
      "RMSE of train data: 0.10\n"
     ]
    }
   ],
   "source": [
    "#Finding the RMSE for train data\n",
    "print('RMSE of train data: {:.2f}'.format(np.sqrt(mean_squared_error(y_train, y_pred_train))))"
   ]
  },
  {
   "cell_type": "code",
   "execution_count": 68,
   "id": "3bc0133f",
   "metadata": {},
   "outputs": [
    {
     "name": "stdout",
     "output_type": "stream",
     "text": [
      "RMSE of test data: 0.14\n"
     ]
    }
   ],
   "source": [
    "#Finding the RMSE for test data\n",
    "print('RMSE of test data: {:.2f}'.format(np.sqrt(mean_squared_error(y_test, y_pred_test))))"
   ]
  },
  {
   "cell_type": "markdown",
   "id": "c758f2fa",
   "metadata": {},
   "source": [
    "# Random Forest:\n",
    "    Accuracy of training Data: 0.99 Accuracy of test Data: 0.99 The RMSE of the train data is: 0.10 The RMSE of the test data is: 0.14"
   ]
  },
  {
   "cell_type": "markdown",
   "id": "c7bb4945",
   "metadata": {},
   "source": [
    "# Gradient Boosted Regression Trees\n",
    "\n",
    "    Gradient Boosted Regression Tree is ensemble technique that combines multiple decision trees to create a more powerful model. These models can be used for regression and classification. Gradient boosting works by building trees in sequence, with each tree trying to fix errors in the previous tree."
   ]
  },
  {
   "cell_type": "code",
   "execution_count": 69,
   "id": "809b77b8",
   "metadata": {},
   "outputs": [],
   "source": [
    "#importing the libraries\n",
    "from sklearn.ensemble import GradientBoostingRegressor"
   ]
  },
  {
   "cell_type": "code",
   "execution_count": 70,
   "id": "9839546a",
   "metadata": {},
   "outputs": [
    {
     "data": {
      "text/plain": [
       "GradientBoostingRegressor(learning_rate=0.7)"
      ]
     },
     "execution_count": 70,
     "metadata": {},
     "output_type": "execute_result"
    }
   ],
   "source": [
    "#Fit the model\n",
    "clf = GradientBoostingRegressor(learning_rate=0.7)\n",
    "clf.fit(X_train, y_train)"
   ]
  },
  {
   "cell_type": "code",
   "execution_count": 71,
   "id": "aef16a90",
   "metadata": {},
   "outputs": [
    {
     "data": {
      "text/plain": [
       "array([-0.25420824, -0.12388845, -0.23926434, ...,  1.23289683,\n",
       "       -0.21098646,  1.11385618])"
      ]
     },
     "execution_count": 71,
     "metadata": {},
     "output_type": "execute_result"
    }
   ],
   "source": [
    "clf.predict(X_test)"
   ]
  },
  {
   "cell_type": "code",
   "execution_count": 72,
   "id": "ca38fa11",
   "metadata": {},
   "outputs": [
    {
     "name": "stdout",
     "output_type": "stream",
     "text": [
      "Accuracy of test data: 0.98\n"
     ]
    }
   ],
   "source": [
    "#Finding the accuracy for test data\n",
    "print('Accuracy of test data: {:.2f}'.format(clf.score(X_test, y_test)))"
   ]
  },
  {
   "cell_type": "code",
   "execution_count": 73,
   "id": "341c168b",
   "metadata": {},
   "outputs": [
    {
     "name": "stdout",
     "output_type": "stream",
     "text": [
      "Accuracy of train data: 0.99\n"
     ]
    }
   ],
   "source": [
    "#Finding the accuracy for train data\n",
    "print('Accuracy of train data: {:.2f}'.format(clf.score(X_train, y_train)))"
   ]
  },
  {
   "cell_type": "code",
   "execution_count": 74,
   "id": "60589761",
   "metadata": {},
   "outputs": [],
   "source": [
    "#predicting the target value from the model for the test and train data\n",
    "y_pred_test = clf.predict(X_test)\n",
    "y_pred_train = clf.predict(X_train)"
   ]
  },
  {
   "cell_type": "code",
   "execution_count": 75,
   "id": "fdad0f75",
   "metadata": {},
   "outputs": [
    {
     "name": "stdout",
     "output_type": "stream",
     "text": [
      "RMSE of train data: 0.14\n"
     ]
    }
   ],
   "source": [
    "#Finding the RMSE for train data\n",
    "print('RMSE of train data: {:.2f}'.format(np.sqrt(mean_squared_error(y_train, y_pred_train))))"
   ]
  },
  {
   "cell_type": "code",
   "execution_count": 76,
   "id": "c071668c",
   "metadata": {},
   "outputs": [
    {
     "name": "stdout",
     "output_type": "stream",
     "text": [
      "RMSE of test data: 0.19\n"
     ]
    }
   ],
   "source": [
    "#Finding the RMSE for test data\n",
    "print('RMSE of test data: {:.2f}'.format(np.sqrt(mean_squared_error(y_test, y_pred_test))))"
   ]
  },
  {
   "cell_type": "markdown",
   "id": "efa1c7d6",
   "metadata": {},
   "source": [
    "# Gradient Boosted Regression Trees:\n",
    "\n",
    "    Accuracy of training Data: 0.99 Accuracy of test Data: 0.98 The RMSE of the train data is: 0.14 The RMSE of the test data is: 0.19"
   ]
  },
  {
   "cell_type": "markdown",
   "id": "112e2c52",
   "metadata": {},
   "source": [
    "# Bagging Regression\n",
    "\n",
    "     Bagging estimator is an ensemble estimator that fits a base estimator to each random subset of a train dataset, aggregates individual predictions, and uses a voting or mean method to form the final prediction."
   ]
  },
  {
   "cell_type": "code",
   "execution_count": 77,
   "id": "f887a401",
   "metadata": {},
   "outputs": [],
   "source": [
    "#importing the libraries\n",
    "from sklearn.ensemble import BaggingRegressor"
   ]
  },
  {
   "cell_type": "code",
   "execution_count": 78,
   "id": "2a5674f0",
   "metadata": {},
   "outputs": [
    {
     "data": {
      "text/plain": [
       "BaggingRegressor(n_estimators=1)"
      ]
     },
     "execution_count": 78,
     "metadata": {},
     "output_type": "execute_result"
    }
   ],
   "source": [
    "#Fit the model\n",
    "clf = BaggingRegressor(n_estimators=1)\n",
    "clf.fit(X_train, y_train)"
   ]
  },
  {
   "cell_type": "code",
   "execution_count": 79,
   "id": "ccc3649a",
   "metadata": {},
   "outputs": [
    {
     "data": {
      "text/plain": [
       "array([-0.14394904, -0.03057325, -0.14904459, ...,  1.08917197,\n",
       "       -0.38152866,  0.94840764])"
      ]
     },
     "execution_count": 79,
     "metadata": {},
     "output_type": "execute_result"
    }
   ],
   "source": [
    "clf.predict(X_test)"
   ]
  },
  {
   "cell_type": "code",
   "execution_count": 80,
   "id": "d9ecc13f",
   "metadata": {},
   "outputs": [
    {
     "name": "stdout",
     "output_type": "stream",
     "text": [
      "Accuracy of test data: 0.98\n"
     ]
    }
   ],
   "source": [
    "#Finding the accuracy for test data\n",
    "print('Accuracy of test data: {:.2f}'.format(clf.score(X_test, y_test)))"
   ]
  },
  {
   "cell_type": "code",
   "execution_count": 81,
   "id": "92b06470",
   "metadata": {},
   "outputs": [
    {
     "name": "stdout",
     "output_type": "stream",
     "text": [
      "Accuracy of train data: 0.99\n"
     ]
    }
   ],
   "source": [
    "#Finding the accuracy for train data\n",
    "print('Accuracy of train data: {:.2f}'.format(clf.score(X_train, y_train)))"
   ]
  },
  {
   "cell_type": "code",
   "execution_count": 82,
   "id": "0f943f03",
   "metadata": {},
   "outputs": [],
   "source": [
    "#predicting the target value from the model for the test and train data\n",
    "y_pred_test = clf.predict(X_test)\n",
    "y_pred_train = clf.predict(X_train)"
   ]
  },
  {
   "cell_type": "code",
   "execution_count": 83,
   "id": "c34e36c2",
   "metadata": {},
   "outputs": [
    {
     "name": "stdout",
     "output_type": "stream",
     "text": [
      "RMSE of train data: 0.11\n"
     ]
    }
   ],
   "source": [
    "#Finding the RMSE for train data\n",
    "print('RMSE of train data: {:.2f}'.format(np.sqrt(mean_squared_error(y_train, y_pred_train))))"
   ]
  },
  {
   "cell_type": "code",
   "execution_count": 84,
   "id": "f9a65380",
   "metadata": {},
   "outputs": [
    {
     "name": "stdout",
     "output_type": "stream",
     "text": [
      "RMSE of test data: 0.18\n"
     ]
    }
   ],
   "source": [
    "#Finding the RMSE for test data\n",
    "print('RMSE of test data: {:.2f}'.format(np.sqrt(mean_squared_error(y_test, y_pred_test))))"
   ]
  },
  {
   "cell_type": "markdown",
   "id": "b4b4a91a",
   "metadata": {},
   "source": [
    "# Bagging Regression:\n",
    "    Accuracy of training Data: 0.99 Accuracy of test Data: 0.98 The RMSE of the train data is: 0.11 The RMSE of the test data is: 0.18"
   ]
  },
  {
   "cell_type": "markdown",
   "id": "33a3e367",
   "metadata": {},
   "source": [
    "# 7. Conclusion\n",
    "\n"
   ]
  },
  {
   "cell_type": "raw",
   "id": "5a32d4ae",
   "metadata": {},
   "source": [
    "The main objective of the project is to work with various machine learning models on the dataset and understand their parameters. By working on this project, I've learned about the parameters of the model, how to adjust them, and how they affect the performance of the model. Also how the null values effect the performance of the models. The final conclusion of the dataset is the  male population is more likely to commit suicide than the female population irrespective of the ages and countries. The suicides are more in elder male groups. The continents such as Central and Eastern Europe have a higher suicide rate compared to the developing countries."
   ]
  }
 ],
 "metadata": {
  "kernelspec": {
   "display_name": "Python 3 (ipykernel)",
   "language": "python",
   "name": "python3"
  },
  "language_info": {
   "codemirror_mode": {
    "name": "ipython",
    "version": 3
   },
   "file_extension": ".py",
   "mimetype": "text/x-python",
   "name": "python",
   "nbconvert_exporter": "python",
   "pygments_lexer": "ipython3",
   "version": "3.9.7"
  }
 },
 "nbformat": 4,
 "nbformat_minor": 5
}
